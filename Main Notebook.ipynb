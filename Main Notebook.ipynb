{
 "cells": [
  {
   "cell_type": "code",
   "execution_count": 1,
   "metadata": {},
   "outputs": [
    {
     "name": "stderr",
     "output_type": "stream",
     "text": [
      "/usr/lib/python3.7/site-packages/sklearn/ensemble/weight_boosting.py:29: DeprecationWarning: numpy.core.umath_tests is an internal NumPy module and should not be imported. It will be removed in a future NumPy release.\n",
      "  from numpy.core.umath_tests import inner1d\n"
     ]
    }
   ],
   "source": [
    "import pandas as pd\n",
    "import numpy as np\n",
    "import matplotlib.mlab as mlab\n",
    "import matplotlib.pyplot as plt\n",
    "from sklearn.ensemble import RandomForestClassifier\n",
    "from sklearn.model_selection import train_test_split\n",
    "from sklearn import svm\n",
    "from parseData import readHeroes\n",
    "import torch\n",
    "import torch.nn as nn\n",
    "import torchvision \n",
    "import torchvision.transforms as transforms"
   ]
  },
  {
   "cell_type": "code",
   "execution_count": 2,
   "metadata": {},
   "outputs": [],
   "source": [
    "device = torch.device('cuda' if torch.cuda.is_available() else 'cpu') "
   ]
  },
  {
   "cell_type": "code",
   "execution_count": 3,
   "metadata": {},
   "outputs": [],
   "source": [
    "def plotHeroUsage(Y,N):\n",
    "    heroes = Y['hero_picked'].unique()\n",
    "    counts = []\n",
    "    for hero in heroes:\n",
    "        counts.append(len(Y[Y['hero_picked'] == hero]))\n",
    "    counts = np.array(counts)\n",
    "    heroes = heroes[counts.argsort()[-N:]]\n",
    "    counts = counts[counts.argsort()[-N:]]\n",
    "    print(counts[-1]/len(Y))\n",
    "    y_pos = np.arange(len(heroes))\n",
    "    plt.bar(y_pos,counts, align='center', alpha=0.5)\n",
    "    plt.xticks(y_pos,heroes)\n",
    "    plt.ylabel('counts')\n",
    "    plt.title(player_id+ ' Hero usage')\n",
    "    plt.savefig('plots/'+player_id+'_hero_use.png')\n",
    "    plt.show()"
   ]
  },
  {
   "cell_type": "code",
   "execution_count": 4,
   "metadata": {},
   "outputs": [],
   "source": [
    "class NeuralNet(nn.Module):\n",
    "    def __init__(self, input_size, hidden_size, num_classes):\n",
    "        super(NeuralNet, self).__init__()\n",
    "        self.fc1 = nn.Linear(input_size, hidden_size) \n",
    "        self.relu = nn.ReLU()\n",
    "        self.fc2 = nn.Linear(hidden_size, num_classes)  \n",
    "    \n",
    "    def forward(self, x):\n",
    "        out = self.fc1(x)\n",
    "        out = self.relu(out)\n",
    "        out = self.fc2(out)\n",
    "        return out"
   ]
  },
  {
   "cell_type": "code",
   "execution_count": 5,
   "metadata": {},
   "outputs": [],
   "source": [
    "def toHeroID(Y):\n",
    "    hero_ids = []\n",
    "    for y in Y:\n",
    "        if np.argwhere(y==1).size <= 0:\n",
    "            hero_ids.append(0)\n",
    "        else:\n",
    "            hero_ids.append(np.argwhere(y==1)[0][0] +1)\n",
    "    return np.array(hero_ids) "
   ]
  },
  {
   "cell_type": "code",
   "execution_count": 29,
   "metadata": {},
   "outputs": [],
   "source": [
    "player_id = '87278757'\n",
    "\n",
    "# player_id = '34505203'\n",
    "# player_id = '82262664'\n",
    "# player_id = '106863163'\n",
    "data = pd.read_csv('csvs/'+player_id+'_2_simpleRep_all_X.csv')\n",
    "Y = pd.read_csv('csvs/'+player_id+'_2_simpleRep_all_Y.csv')\n",
    "skip_ban = False\n",
    "if ('banned_hero1'not in data.columns):\n",
    "    skip_ban = True\n",
    "heroes =  readHeroes()\n",
    "num_heroes = int(list(heroes.keys())[-1])\n",
    "data =  data.dropna(1,'all')"
   ]
  },
  {
   "cell_type": "code",
   "execution_count": 40,
   "metadata": {},
   "outputs": [
    {
     "data": {
      "image/png": "[encoded data removed]",
      "text/plain": [
       "<Figure size 432x288 with 1 Axes>"
      ]
     },
     "metadata": {
      "needs_background": "light"
     },
     "output_type": "display_data"
    }
   ],
   "source": [
    "player_id = '87278757'\n",
    "data_87 = [0.2117318788031655,0.5432470494267008,0.6602242750995786,0.8881199356811804,0.9359649399375729,0.8331336507235867,0.2783785772088575,0.8972317684522496,0.9981608180681233,0.985291799350506,0.9924803733013842,0.9940673245683177,0.995748862334605,0.9959590545553909,0.9963689293859235,0.9971203665752331,0.9974671837395298,0.9978034912927872,0.9981818372902019,0.9984130487330664,0.9985654380931361,0.9985654380931361,0.998628495759372,0.998628495759372,0.998628495759372,0.998628495759372,0.998628495759372,0.998628495759372,0.998628495759372,0.9986600245924898,0.9986600245924898,0.9986600245924898,0.9986600245924898,0.9986600245924898,0.9986600245924898,0.9986600245924898,0.9986600245924898,0.9986600245924898,0.9986600245924898,0.9986600245924898,0.9986600245924898,0.9986600245924898,0.9986600245924898,0.9986600245924898,0.9986600245924898,0.9986600245924898,0.9986600245924898,0.9986600245924898,0.9986600245924898,0.9986600245924898]\n",
    "y_pos = np.arange(len(data_87))\n",
    "plt.plot(y_pos,data_87)\n",
    "plt.ylabel('Performance')\n",
    "plt.xlabel('Epoch')\n",
    "plt.title(player_id +' LSTM' )\n",
    "plt.savefig('plots/'+player_id +'_lstm.png' )"
   ]
  },
  {
   "cell_type": "code",
   "execution_count": 30,
   "metadata": {},
   "outputs": [
    {
     "name": "stdout",
     "output_type": "stream",
     "text": [
      "[1009, 315, 47, 61, 6, 7, 1, 1]\n"
     ]
    },
    {
     "data": {
      "text/plain": [
       "Text(0.5,1,'87278757 Hero usage')"
      ]
     },
     "execution_count": 30,
     "metadata": {},
     "output_type": "execute_result"
    },
    {
     "data": {
      "image/png": "[encoded data removed]",
      "text/plain": [
       "<Figure size 432x288 with 1 Axes>"
      ]
     },
     "metadata": {
      "needs_background": "light"
     },
     "output_type": "display_data"
    }
   ],
   "source": [
    "version_types = data['version'].drop_duplicates()\n",
    "version_counts = []\n",
    "for version in version_types:\n",
    "    version_counts.append(len(data[data['version'] == version]))\n",
    "print(version_counts)\n",
    "y_pos = np.arange(len(version_types))\n",
    "plt.bar(y_pos,version_counts, align='center', alpha=0.5)\n",
    "plt.xticks(y_pos,version_types)\n",
    "plt.ylabel('counts')\n",
    "plt.savefig('plots/'+player_id+'_versions_played.png')\n",
    "plt.title(player_id+ ' Hero usage')"
   ]
  },
  {
   "cell_type": "code",
   "execution_count": 14,
   "metadata": {},
   "outputs": [],
   "source": [
    "X = data.drop(columns=['match_id','version','start_time'])\n",
    "X = X.fillna(0)\n",
    "allies = np.zeros((X.shape[0],num_heroes))\n",
    "enemies = np.zeros((X.shape[0],num_heroes))\n",
    "if not skip_ban:\n",
    "    banned = np.zeros((X.shape[0],num_heroes))\n",
    "output = np.zeros((Y.shape[0],num_heroes))\n",
    "for i,row in X.iterrows():\n",
    "    allies[i,int(row['ally_hero1'])-1] = 1\n",
    "    allies[i,int(row['ally_hero2'])-1] = 1\n",
    "    allies[i,int(row['ally_hero3'])-1] = 1\n",
    "    allies[i,int(row['ally_hero4'])-1] = 1\n",
    "    enemies[i,int(row['enemy_team1'])-1] = 1\n",
    "    enemies[i,int(row['enemy_team2'])-1] = 1\n",
    "    enemies[i,int(row['enemy_team3'])-1] = 1\n",
    "    enemies[i,int(row['enemy_team4'])-1] = 1\n",
    "    enemies[i,int(row['enemy_team5'])-1] = 1\n",
    "    if not skip_ban:\n",
    "        if 'banned_hero1' in row:\n",
    "            banned[i,int(row['banned_hero1'])-1] = 1\n",
    "        if 'banned_hero2' in row:\n",
    "            banned[i,int(row['banned_hero2'])-1] = 1\n",
    "        if 'banned_hero3' in row:\n",
    "            banned[i,int(row['banned_hero3'])-1] = 1\n",
    "        if 'banned_hero4' in row:\n",
    "            banned[i,int(row['banned_hero4'])-1] = 1\n",
    "        if 'banned_hero5' in row:\n",
    "            banned[i,int(row['banned_hero5'])-1] = 1\n",
    "        if 'banned_hero6' in row:\n",
    "            banned[i,int(row['banned_hero6'])-1] = 1\n",
    "        if 'banned_hero7' in row:\n",
    "            banned[i,int(row['banned_hero7'])-1] = 1\n",
    "        if 'banned_hero8' in row:\n",
    "            banned[i,int(row['banned_hero8'])-1] = 1\n",
    "        if 'banned_hero9' in row:\n",
    "            banned[i,int(row['banned_hero9'])-1] = 1\n",
    "        if 'banned_hero10' in row:\n",
    "            banned[i,int(row['banned_hero10'])-1] = 1\n",
    "        if 'banned_hero11' in row:\n",
    "            banned[i,int(row['banned_hero11'])-1] = 1\n",
    "        if 'banned_hero12' in row:\n",
    "            banned[i,int(row['banned_hero12'])-1] = 1\n",
    "    hero_picked = Y['hero_picked'][i]\n",
    "    hero_picked = Y['hero_picked'][i]\n",
    "    output[i,hero_picked-1] = 1"
   ]
  },
  {
   "cell_type": "code",
   "execution_count": 15,
   "metadata": {},
   "outputs": [],
   "source": [
    "X_train, X_test, y_train, y_test = train_test_split(X,Y)"
   ]
  },
  {
   "cell_type": "code",
   "execution_count": 16,
   "metadata": {},
   "outputs": [
    {
     "name": "stderr",
     "output_type": "stream",
     "text": [
      "/usr/lib/python3.7/site-packages/ipykernel_launcher.py:2: DataConversionWarning: A column-vector y was passed when a 1d array was expected. Please change the shape of y to (n_samples,), for example using ravel().\n",
      "  \n"
     ]
    }
   ],
   "source": [
    "clf = RandomForestClassifier(n_estimators=100)\n",
    "rf = clf.fit(X_train,y_train)"
   ]
  },
  {
   "cell_type": "code",
   "execution_count": 17,
   "metadata": {},
   "outputs": [
    {
     "data": {
      "text/plain": [
       "0.11904761904761904"
      ]
     },
     "execution_count": 17,
     "metadata": {},
     "output_type": "execute_result"
    }
   ],
   "source": [
    "prediction = rf.predict(X_test)\n",
    "ground_truth = np.array(y_test).flatten()\n",
    "np.sum(prediction == ground_truth) / len(ground_truth)"
   ]
  },
  {
   "cell_type": "code",
   "execution_count": 18,
   "metadata": {},
   "outputs": [
    {
     "name": "stderr",
     "output_type": "stream",
     "text": [
      "/usr/lib/python3.7/site-packages/sklearn/utils/validation.py:578: DataConversionWarning: A column-vector y was passed when a 1d array was expected. Please change the shape of y to (n_samples, ), for example using ravel().\n",
      "  y = column_or_1d(y, warn=True)\n"
     ]
    }
   ],
   "source": [
    "clf = svm.SVC(decision_function_shape='ovo')\n",
    "svm_model = clf.fit(X_train,y_train)"
   ]
  },
  {
   "cell_type": "code",
   "execution_count": 19,
   "metadata": {},
   "outputs": [
    {
     "data": {
      "text/plain": [
       "0.09523809523809523"
      ]
     },
     "execution_count": 19,
     "metadata": {},
     "output_type": "execute_result"
    }
   ],
   "source": [
    "prediction = svm_model.predict(X_test)\n",
    "ground_truth = np.array(y_test).flatten()\n",
    "np.sum(prediction == ground_truth) / len(ground_truth)"
   ]
  },
  {
   "cell_type": "code",
   "execution_count": 20,
   "metadata": {},
   "outputs": [],
   "source": [
    "if not skip_ban:\n",
    "    X = np.concatenate((allies,enemies,banned),1)\n",
    "else:\n",
    "    X = np.concatenate((allies,enemies),1)\n",
    "    \n",
    "Y = output\n",
    "X_train, X_test, y_train, y_test = train_test_split(X,Y)"
   ]
  },
  {
   "cell_type": "code",
   "execution_count": 23,
   "metadata": {
    "scrolled": false
   },
   "outputs": [
    {
     "name": "stdout",
     "output_type": "stream",
     "text": [
      "Epoch [1000/100000], Loss: 2.2072\n",
      "Epoch [2000/100000], Loss: 1.8244\n",
      "Epoch [3000/100000], Loss: 1.5961\n",
      "Epoch [4000/100000], Loss: 1.4215\n",
      "Epoch [5000/100000], Loss: 1.2956\n",
      "Epoch [6000/100000], Loss: 1.2001\n",
      "Epoch [7000/100000], Loss: 1.1257\n",
      "Epoch [8000/100000], Loss: 1.0688\n",
      "Epoch [9000/100000], Loss: 1.0272\n",
      "Epoch [10000/100000], Loss: 0.9918\n",
      "Epoch [11000/100000], Loss: 0.9581\n",
      "Epoch [12000/100000], Loss: 0.9257\n",
      "Epoch [13000/100000], Loss: 0.8983\n",
      "Epoch [14000/100000], Loss: 0.8751\n",
      "Epoch [15000/100000], Loss: 0.8544\n",
      "Epoch [16000/100000], Loss: 0.8369\n",
      "Epoch [17000/100000], Loss: 0.8232\n",
      "Epoch [18000/100000], Loss: 0.8117\n",
      "Epoch [19000/100000], Loss: 0.8014\n",
      "Epoch [20000/100000], Loss: 0.7921\n",
      "Epoch [21000/100000], Loss: 0.7821\n",
      "Epoch [22000/100000], Loss: 0.7715\n",
      "Epoch [23000/100000], Loss: 0.7627\n",
      "Epoch [24000/100000], Loss: 0.7548\n",
      "Epoch [25000/100000], Loss: 0.7461\n",
      "Epoch [26000/100000], Loss: 0.7389\n",
      "Epoch [27000/100000], Loss: 0.7317\n",
      "Epoch [28000/100000], Loss: 0.7250\n",
      "Epoch [29000/100000], Loss: 0.7181\n",
      "Epoch [30000/100000], Loss: 0.7101\n",
      "Epoch [31000/100000], Loss: 0.6976\n",
      "Epoch [32000/100000], Loss: 0.6825\n",
      "Epoch [33000/100000], Loss: 0.6588\n",
      "Epoch [34000/100000], Loss: 0.6443\n",
      "Epoch [35000/100000], Loss: 0.6350\n",
      "Epoch [36000/100000], Loss: 0.6264\n",
      "Epoch [37000/100000], Loss: 0.6186\n",
      "Epoch [38000/100000], Loss: 0.6113\n",
      "Epoch [39000/100000], Loss: 0.6046\n",
      "Epoch [40000/100000], Loss: 0.5989\n",
      "Epoch [41000/100000], Loss: 0.5944\n",
      "Epoch [42000/100000], Loss: 0.5903\n",
      "Epoch [43000/100000], Loss: 0.5856\n",
      "Epoch [44000/100000], Loss: 0.5818\n",
      "Epoch [45000/100000], Loss: 0.5781\n",
      "Epoch [46000/100000], Loss: 0.5746\n",
      "Epoch [47000/100000], Loss: 0.5705\n",
      "Epoch [48000/100000], Loss: 0.5666\n",
      "Epoch [49000/100000], Loss: 0.5625\n",
      "Epoch [50000/100000], Loss: 0.5582\n",
      "Epoch [51000/100000], Loss: 0.5533\n",
      "Epoch [52000/100000], Loss: 0.5488\n",
      "Epoch [53000/100000], Loss: 0.5446\n",
      "Epoch [54000/100000], Loss: 0.5409\n",
      "Epoch [55000/100000], Loss: 0.5378\n",
      "Epoch [56000/100000], Loss: 0.5350\n",
      "Epoch [57000/100000], Loss: 0.5324\n",
      "Epoch [58000/100000], Loss: 0.5299\n",
      "Epoch [59000/100000], Loss: 0.5274\n",
      "Epoch [60000/100000], Loss: 0.5252\n",
      "Epoch [61000/100000], Loss: 0.5231\n",
      "Epoch [62000/100000], Loss: 0.5211\n",
      "Epoch [63000/100000], Loss: 0.5186\n",
      "Epoch [64000/100000], Loss: 0.5161\n",
      "Epoch [65000/100000], Loss: 0.5134\n",
      "Epoch [66000/100000], Loss: 0.5109\n",
      "Epoch [67000/100000], Loss: 0.5086\n",
      "Epoch [68000/100000], Loss: 0.5064\n",
      "Epoch [69000/100000], Loss: 0.5044\n",
      "Epoch [70000/100000], Loss: 0.5026\n",
      "Epoch [71000/100000], Loss: 0.5009\n",
      "Epoch [72000/100000], Loss: 0.4993\n",
      "Epoch [73000/100000], Loss: 0.4972\n",
      "Epoch [74000/100000], Loss: 0.4953\n",
      "Epoch [75000/100000], Loss: 0.4935\n",
      "Epoch [76000/100000], Loss: 0.4919\n",
      "Epoch [77000/100000], Loss: 0.4903\n",
      "Epoch [78000/100000], Loss: 0.4887\n",
      "Epoch [79000/100000], Loss: 0.4869\n",
      "Epoch [80000/100000], Loss: 0.4853\n",
      "Epoch [81000/100000], Loss: 0.4836\n",
      "Epoch [82000/100000], Loss: 0.4814\n",
      "Epoch [83000/100000], Loss: 0.4782\n",
      "Epoch [84000/100000], Loss: 0.4730\n",
      "Epoch [85000/100000], Loss: 0.4700\n",
      "Epoch [86000/100000], Loss: 0.4675\n",
      "Epoch [87000/100000], Loss: 0.4649\n",
      "Epoch [88000/100000], Loss: 0.4628\n",
      "Epoch [89000/100000], Loss: 0.4609\n",
      "Epoch [90000/100000], Loss: 0.4589\n",
      "Epoch [91000/100000], Loss: 0.4571\n",
      "Epoch [92000/100000], Loss: 0.4554\n",
      "Epoch [93000/100000], Loss: 0.4530\n",
      "Epoch [94000/100000], Loss: 0.4500\n",
      "Epoch [95000/100000], Loss: 0.4468\n",
      "Epoch [96000/100000], Loss: 0.4441\n",
      "Epoch [97000/100000], Loss: 0.4416\n",
      "Epoch [98000/100000], Loss: 0.4394\n",
      "Epoch [99000/100000], Loss: 0.4373\n",
      "Epoch [100000/100000], Loss: 0.4353\n"
     ]
    }
   ],
   "source": [
    "input_size = X_train.shape[1]\n",
    "actual_ids = toHeroID(y_train)-1\n",
    "# actual_ids = np.array(y_train['hero_picked']) -1\n",
    "# output_size = y_train.shape[1]\n",
    "output_size = num_heroes\n",
    "hidden_size = 5\n",
    "num_epochs = 100000\n",
    "batch_size = 100\n",
    "learning_rate = 0.001\n",
    "# log_model = nn.Linear(input_size,output_size)\n",
    "# might need a sigmoid ^\n",
    "nn_model = NeuralNet(input_size,hidden_size,output_size)\n",
    "criterion = nn.CrossEntropyLoss()\n",
    "optimizer = torch.optim.Adam(nn_model.parameters(), lr = learning_rate)\n",
    "for epoch in range(num_epochs):\n",
    "    # Convert numpy arrays to torch tensors\n",
    "    inputs = torch.from_numpy(np.array(X_train,dtype=np.float32))\n",
    "    targets = torch.from_numpy(np.array(actual_ids,dtype=np.int64))\n",
    "\n",
    "    # Forward pass\n",
    "    outputs = nn_model(inputs)\n",
    "    loss = criterion(outputs.squeeze(), targets)\n",
    "    \n",
    "    # Backward and optimize\n",
    "    optimizer.zero_grad()\n",
    "    loss.backward()\n",
    "    optimizer.step()\n",
    "    \n",
    "    if (epoch+1) % 1000 == 0:\n",
    "        print ('Epoch [{}/{}], Loss: {:.4f}'.format(epoch+1, num_epochs, loss.item()))\n",
    "\n"
   ]
  },
  {
   "cell_type": "code",
   "execution_count": 24,
   "metadata": {},
   "outputs": [],
   "source": [
    "prediction = nn_model(torch.from_numpy(np.array(X_test,dtype=np.float32))).detach().numpy()"
   ]
  },
  {
   "cell_type": "code",
   "execution_count": 27,
   "metadata": {},
   "outputs": [
    {
     "data": {
      "text/plain": [
       "0.06666666666666667"
      ]
     },
     "execution_count": 27,
     "metadata": {},
     "output_type": "execute_result"
    }
   ],
   "source": [
    "labels = np.argmax(y_test,axis=1)+1\n",
    "# labels = np.array(y_test).flatten()\n",
    "sum((np.argmax(prediction,axis=1)+1) == labels )/ len(labels)"
   ]
  },
  {
   "cell_type": "code",
   "execution_count": 29,
   "metadata": {},
   "outputs": [
    {
     "name": "stderr",
     "output_type": "stream",
     "text": [
      "/usr/lib/python3.7/site-packages/ipykernel_launcher.py:2: DataConversionWarning: A column-vector y was passed when a 1d array was expected. Please change the shape of y to (n_samples,), for example using ravel().\n",
      "  \n"
     ]
    }
   ],
   "source": [
    "clf = RandomForestClassifier(n_estimators=100)\n",
    "rf = clf.fit(X_train,y_train)"
   ]
  },
  {
   "cell_type": "code",
   "execution_count": 30,
   "metadata": {},
   "outputs": [
    {
     "ename": "AxisError",
     "evalue": "axis 1 is out of bounds for array of dimension 1",
     "output_type": "error",
     "traceback": [
      "\u001b[0;31m---------------------------------------------------------------------------\u001b[0m",
      "\u001b[0;31mAxisError\u001b[0m                                 Traceback (most recent call last)",
      "\u001b[0;32m<ipython-input-30-f75c15b761f8>\u001b[0m in \u001b[0;36m<module>\u001b[0;34m\u001b[0m\n\u001b[1;32m      1\u001b[0m \u001b[0mprediction\u001b[0m \u001b[0;34m=\u001b[0m \u001b[0mrf\u001b[0m\u001b[0;34m.\u001b[0m\u001b[0mpredict\u001b[0m\u001b[0;34m(\u001b[0m\u001b[0mX_test\u001b[0m\u001b[0;34m)\u001b[0m\u001b[0;34m\u001b[0m\u001b[0;34m\u001b[0m\u001b[0m\n\u001b[0;32m----> 2\u001b[0;31m \u001b[0msum\u001b[0m\u001b[0;34m(\u001b[0m\u001b[0;34m(\u001b[0m\u001b[0mnp\u001b[0m\u001b[0;34m.\u001b[0m\u001b[0margmax\u001b[0m\u001b[0;34m(\u001b[0m\u001b[0mprediction\u001b[0m\u001b[0;34m,\u001b[0m\u001b[0maxis\u001b[0m\u001b[0;34m=\u001b[0m\u001b[0;36m1\u001b[0m\u001b[0;34m)\u001b[0m\u001b[0;34m+\u001b[0m\u001b[0;36m1\u001b[0m\u001b[0;34m)\u001b[0m \u001b[0;34m==\u001b[0m \u001b[0mlabels\u001b[0m \u001b[0;34m)\u001b[0m\u001b[0;34m/\u001b[0m \u001b[0mlen\u001b[0m\u001b[0;34m(\u001b[0m\u001b[0mlabels\u001b[0m\u001b[0;34m)\u001b[0m\u001b[0;34m\u001b[0m\u001b[0;34m\u001b[0m\u001b[0m\n\u001b[0m",
      "\u001b[0;32m/usr/lib/python3.7/site-packages/numpy/core/fromnumeric.py\u001b[0m in \u001b[0;36margmax\u001b[0;34m(a, axis, out)\u001b[0m\n\u001b[1;32m   1035\u001b[0m \u001b[0;34m\u001b[0m\u001b[0m\n\u001b[1;32m   1036\u001b[0m     \"\"\"\n\u001b[0;32m-> 1037\u001b[0;31m     \u001b[0;32mreturn\u001b[0m \u001b[0m_wrapfunc\u001b[0m\u001b[0;34m(\u001b[0m\u001b[0ma\u001b[0m\u001b[0;34m,\u001b[0m \u001b[0;34m'argmax'\u001b[0m\u001b[0;34m,\u001b[0m \u001b[0maxis\u001b[0m\u001b[0;34m=\u001b[0m\u001b[0maxis\u001b[0m\u001b[0;34m,\u001b[0m \u001b[0mout\u001b[0m\u001b[0;34m=\u001b[0m\u001b[0mout\u001b[0m\u001b[0;34m)\u001b[0m\u001b[0;34m\u001b[0m\u001b[0;34m\u001b[0m\u001b[0m\n\u001b[0m\u001b[1;32m   1038\u001b[0m \u001b[0;34m\u001b[0m\u001b[0m\n\u001b[1;32m   1039\u001b[0m \u001b[0;34m\u001b[0m\u001b[0m\n",
      "\u001b[0;32m/usr/lib/python3.7/site-packages/numpy/core/fromnumeric.py\u001b[0m in \u001b[0;36m_wrapfunc\u001b[0;34m(obj, method, *args, **kwds)\u001b[0m\n\u001b[1;32m     49\u001b[0m \u001b[0;32mdef\u001b[0m \u001b[0m_wrapfunc\u001b[0m\u001b[0;34m(\u001b[0m\u001b[0mobj\u001b[0m\u001b[0;34m,\u001b[0m \u001b[0mmethod\u001b[0m\u001b[0;34m,\u001b[0m \u001b[0;34m*\u001b[0m\u001b[0margs\u001b[0m\u001b[0;34m,\u001b[0m \u001b[0;34m**\u001b[0m\u001b[0mkwds\u001b[0m\u001b[0;34m)\u001b[0m\u001b[0;34m:\u001b[0m\u001b[0;34m\u001b[0m\u001b[0;34m\u001b[0m\u001b[0m\n\u001b[1;32m     50\u001b[0m     \u001b[0;32mtry\u001b[0m\u001b[0;34m:\u001b[0m\u001b[0;34m\u001b[0m\u001b[0;34m\u001b[0m\u001b[0m\n\u001b[0;32m---> 51\u001b[0;31m         \u001b[0;32mreturn\u001b[0m \u001b[0mgetattr\u001b[0m\u001b[0;34m(\u001b[0m\u001b[0mobj\u001b[0m\u001b[0;34m,\u001b[0m \u001b[0mmethod\u001b[0m\u001b[0;34m)\u001b[0m\u001b[0;34m(\u001b[0m\u001b[0;34m*\u001b[0m\u001b[0margs\u001b[0m\u001b[0;34m,\u001b[0m \u001b[0;34m**\u001b[0m\u001b[0mkwds\u001b[0m\u001b[0;34m)\u001b[0m\u001b[0;34m\u001b[0m\u001b[0;34m\u001b[0m\u001b[0m\n\u001b[0m\u001b[1;32m     52\u001b[0m \u001b[0;34m\u001b[0m\u001b[0m\n\u001b[1;32m     53\u001b[0m     \u001b[0;31m# An AttributeError occurs if the object does not have\u001b[0m\u001b[0;34m\u001b[0m\u001b[0;34m\u001b[0m\u001b[0;34m\u001b[0m\u001b[0m\n",
      "\u001b[0;31mAxisError\u001b[0m: axis 1 is out of bounds for array of dimension 1"
     ]
    }
   ],
   "source": [
    "prediction = rf.predict(X_test)\n",
    "sum((np.argmax(prediction,axis=1)+1) == labels )/ len(labels)"
   ]
  },
  {
   "cell_type": "code",
   "execution_count": null,
   "metadata": {},
   "outputs": [],
   "source": []
  }
 ],
 "metadata": {
  "kernelspec": {
   "display_name": "Python 3",
   "language": "python",
   "name": "python3"
  },
  "language_info": {
   "codemirror_mode": {
    "name": "ipython",
    "version": 3
   },
   "file_extension": ".py",
   "mimetype": "text/x-python",
   "name": "python",
   "nbconvert_exporter": "python",
   "pygments_lexer": "ipython3",
   "version": "3.7.1"
  }
 },
 "nbformat": 4,
 "nbformat_minor": 2
}
