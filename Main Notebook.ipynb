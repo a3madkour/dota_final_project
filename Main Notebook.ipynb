{
 "cells": [
  {
   "cell_type": "code",
   "execution_count": 1,
   "metadata": {},
   "outputs": [
    {
     "name": "stderr",
     "output_type": "stream",
     "text": [
      "/usr/lib/python3.7/site-packages/sklearn/ensemble/weight_boosting.py:29: DeprecationWarning: numpy.core.umath_tests is an internal NumPy module and should not be imported. It will be removed in a future NumPy release.\n",
      "  from numpy.core.umath_tests import inner1d\n"
     ]
    }
   ],
   "source": [
    "import pandas as pd\n",
    "import numpy as np\n",
    "import matplotlib.mlab as mlab\n",
    "import matplotlib.pyplot as plt\n",
    "from sklearn.ensemble import RandomForestClassifier\n",
    "from sklearn.model_selection import train_test_split\n",
    "from sklearn import svm\n",
    "from parseData import readHeroes\n",
    "import torch\n",
    "import torch.nn as nn\n",
    "import torchvision \n",
    "import torchvision.transforms as transforms"
   ]
  },
  {
   "cell_type": "code",
   "execution_count": 2,
   "metadata": {},
   "outputs": [],
   "source": [
    "device = torch.device('cuda' if torch.cuda.is_available() else 'cpu') "
   ]
  },
  {
   "cell_type": "code",
   "execution_count": 3,
   "metadata": {},
   "outputs": [],
   "source": [
    "def plotHeroUsage(Y,N):\n",
    "    heroes = Y['hero_picked'].unique()\n",
    "    counts = []\n",
    "    for hero in heroes:\n",
    "        counts.append(len(Y[Y['hero_picked'] == hero]))\n",
    "    counts = np.array(counts)\n",
    "    heroes = heroes[counts.argsort()[-N:]]\n",
    "    counts = counts[counts.argsort()[-N:]]\n",
    "    print(counts[-1]/len(Y))\n",
    "    y_pos = np.arange(len(heroes))\n",
    "    plt.bar(y_pos,counts, align='center', alpha=0.5)\n",
    "    plt.xticks(y_pos,heroes)\n",
    "    plt.ylabel('counts')\n",
    "    plt.title('Hero usage')\n",
    "    plt.show()"
   ]
  },
  {
   "cell_type": "code",
   "execution_count": 4,
   "metadata": {},
   "outputs": [],
   "source": [
    "class NeuralNet(nn.Module):\n",
    "    def __init__(self, input_size, hidden_size, num_classes):\n",
    "        super(NeuralNet, self).__init__()\n",
    "        self.fc1 = nn.Linear(input_size, hidden_size) \n",
    "        self.relu = nn.ReLU()\n",
    "        self.fc2 = nn.Linear(hidden_size, num_classes)  \n",
    "    \n",
    "    def forward(self, x):\n",
    "        out = self.fc1(x)\n",
    "        out = self.relu(out)\n",
    "        out = self.fc2(out)\n",
    "        return out"
   ]
  },
  {
   "cell_type": "code",
   "execution_count": 5,
   "metadata": {},
   "outputs": [],
   "source": [
    "def toHeroID(Y):\n",
    "    hero_ids = []\n",
    "    for y in Y:\n",
    "        if np.argwhere(y==1).size <= 0:\n",
    "            hero_ids.append(0)\n",
    "        else:\n",
    "            hero_ids.append(np.argwhere(y==1)[0][0] +1)\n",
    "    return np.array(hero_ids) "
   ]
  },
  {
   "cell_type": "code",
   "execution_count": 6,
   "metadata": {},
   "outputs": [],
   "source": [
    "data = pd.read_csv('224051329_22_all_X.csv')\n",
    "Y = pd.read_csv('224051329_22_all_Y.csv')\n",
    "skip_ban = False\n",
    "if ('banned_hero1'not in data.columns):\n",
    "    skip_ban = True\n",
    "heroes =  readHeroes()\n",
    "num_heroes = int(list(heroes.keys())[-1])\n",
    "data =  data.dropna(1,'all')"
   ]
  },
  {
   "cell_type": "code",
   "execution_count": 24,
   "metadata": {},
   "outputs": [
    {
     "name": "stdout",
     "output_type": "stream",
     "text": [
      "0.2262686567164179\n"
     ]
    },
    {
     "data": {
      "image/png": "[encoded data removed]",
      "text/plain": [
       "<Figure size 432x288 with 1 Axes>"
      ]
     },
     "metadata": {
      "needs_background": "light"
     },
     "output_type": "display_data"
    }
   ],
   "source": [
    "plotHeroUsage(Y,10)"
   ]
  },
  {
   "cell_type": "code",
   "execution_count": 8,
   "metadata": {},
   "outputs": [],
   "source": [
    "X = data.drop(columns=['match_id','version','start_time'])\n",
    "X = X.fillna(0)\n",
    "allies = np.zeros((X.shape[0],num_heroes))\n",
    "enemies = np.zeros((X.shape[0],num_heroes))\n",
    "if not skip_ban:\n",
    "    banned = np.zeros((X.shape[0],num_heroes))\n",
    "output = np.zeros((Y.shape[0],num_heroes))\n",
    "for i,row in X.iterrows():\n",
    "    allies[i,int(row['ally_hero1'])-1] = 1\n",
    "    allies[i,int(row['ally_hero2'])-1] = 1\n",
    "    allies[i,int(row['ally_hero3'])-1] = 1\n",
    "    allies[i,int(row['ally_hero4'])-1] = 1\n",
    "    enemies[i,int(row['enemy_team1'])-1] = 1\n",
    "    enemies[i,int(row['enemy_team2'])-1] = 1\n",
    "    enemies[i,int(row['enemy_team3'])-1] = 1\n",
    "    enemies[i,int(row['enemy_team4'])-1] = 1\n",
    "    enemies[i,int(row['enemy_team5'])-1] = 1\n",
    "    if not skip_ban:\n",
    "        if 'banned_hero1' in row:\n",
    "            banned[i,int(row['banned_hero1'])-1] = 1\n",
    "        if 'banned_hero2' in row:\n",
    "            banned[i,int(row['banned_hero2'])-1] = 1\n",
    "        if 'banned_hero3' in row:\n",
    "            banned[i,int(row['banned_hero3'])-1] = 1\n",
    "        if 'banned_hero4' in row:\n",
    "            banned[i,int(row['banned_hero4'])-1] = 1\n",
    "        if 'banned_hero5' in row:\n",
    "            banned[i,int(row['banned_hero5'])-1] = 1\n",
    "        if 'banned_hero6' in row:\n",
    "            banned[i,int(row['banned_hero6'])-1] = 1\n",
    "        if 'banned_hero7' in row:\n",
    "            banned[i,int(row['banned_hero7'])-1] = 1\n",
    "        if 'banned_hero8' in row:\n",
    "            banned[i,int(row['banned_hero8'])-1] = 1\n",
    "        if 'banned_hero9' in row:\n",
    "            banned[i,int(row['banned_hero9'])-1] = 1\n",
    "        if 'banned_hero10' in row:\n",
    "            banned[i,int(row['banned_hero10'])-1] = 1\n",
    "        if 'banned_hero11' in row:\n",
    "            banned[i,int(row['banned_hero11'])-1] = 1\n",
    "        if 'banned_hero12' in row:\n",
    "            banned[i,int(row['banned_hero12'])-1] = 1\n",
    "    hero_picked = Y['hero_picked'][i]\n",
    "    hero_picked = Y['hero_picked'][i]\n",
    "    output[i,hero_picked-1] = 1"
   ]
  },
  {
   "cell_type": "code",
   "execution_count": 9,
   "metadata": {},
   "outputs": [],
   "source": [
    "X_train, X_test, y_train, y_test = train_test_split(X,Y)"
   ]
  },
  {
   "cell_type": "code",
   "execution_count": 21,
   "metadata": {},
   "outputs": [
    {
     "name": "stderr",
     "output_type": "stream",
     "text": [
      "/usr/lib/python3.7/site-packages/ipykernel_launcher.py:2: DataConversionWarning: A column-vector y was passed when a 1d array was expected. Please change the shape of y to (n_samples,), for example using ravel().\n",
      "  \n"
     ]
    }
   ],
   "source": [
    "clf = RandomForestClassifier(n_estimators=100)\n",
    "rf = clf.fit(X_train,y_train)"
   ]
  },
  {
   "cell_type": "code",
   "execution_count": 22,
   "metadata": {},
   "outputs": [
    {
     "data": {
      "text/plain": [
       "0.20763723150357996"
      ]
     },
     "execution_count": 22,
     "metadata": {},
     "output_type": "execute_result"
    }
   ],
   "source": [
    "prediction = rf.predict(X_test)\n",
    "ground_truth = np.array(y_test).flatten()\n",
    "np.sum(prediction == ground_truth) / len(ground_truth)"
   ]
  },
  {
   "cell_type": "code",
   "execution_count": 12,
   "metadata": {},
   "outputs": [
    {
     "name": "stderr",
     "output_type": "stream",
     "text": [
      "/usr/lib/python3.7/site-packages/sklearn/utils/validation.py:578: DataConversionWarning: A column-vector y was passed when a 1d array was expected. Please change the shape of y to (n_samples, ), for example using ravel().\n",
      "  y = column_or_1d(y, warn=True)\n"
     ]
    }
   ],
   "source": [
    "clf = svm.SVC(decision_function_shape='ovo')\n",
    "svm_model = clf.fit(X_train,y_train)"
   ]
  },
  {
   "cell_type": "code",
   "execution_count": 13,
   "metadata": {},
   "outputs": [
    {
     "data": {
      "text/plain": [
       "0.24105011933174225"
      ]
     },
     "execution_count": 13,
     "metadata": {},
     "output_type": "execute_result"
    }
   ],
   "source": [
    "prediction = svm_model.predict(X_test)\n",
    "ground_truth = np.array(y_test).flatten()\n",
    "np.sum(prediction == ground_truth) / len(ground_truth)"
   ]
  },
  {
   "cell_type": "code",
   "execution_count": 14,
   "metadata": {},
   "outputs": [],
   "source": [
    "if not skip_ban:\n",
    "    X = np.concatenate((allies,enemies,banned),1)\n",
    "else:\n",
    "    X = np.concatenate((allies,enemies),1)\n",
    "    \n",
    "Y = output\n",
    "X_train, X_test, y_train, y_test = train_test_split(X,Y)"
   ]
  },
  {
   "cell_type": "code",
   "execution_count": null,
   "metadata": {
    "scrolled": false
   },
   "outputs": [
    {
     "name": "stdout",
     "output_type": "stream",
     "text": [
      "Epoch [5/100000], Loss: 4.8782\n",
      "Epoch [10/100000], Loss: 4.8590\n",
      "Epoch [15/100000], Loss: 4.8406\n",
      "Epoch [20/100000], Loss: 4.8215\n",
      "Epoch [25/100000], Loss: 4.8015\n",
      "Epoch [30/100000], Loss: 4.7802\n",
      "Epoch [35/100000], Loss: 4.7575\n",
      "Epoch [40/100000], Loss: 4.7333\n",
      "Epoch [45/100000], Loss: 4.7076\n",
      "Epoch [50/100000], Loss: 4.6804\n",
      "Epoch [55/100000], Loss: 4.6516\n",
      "Epoch [60/100000], Loss: 4.6210\n",
      "Epoch [65/100000], Loss: 4.5888\n",
      "Epoch [70/100000], Loss: 4.5549\n",
      "Epoch [75/100000], Loss: 4.5192\n",
      "Epoch [80/100000], Loss: 4.4818\n",
      "Epoch [85/100000], Loss: 4.4428\n",
      "Epoch [90/100000], Loss: 4.4022\n",
      "Epoch [95/100000], Loss: 4.3601\n",
      "Epoch [100/100000], Loss: 4.3166\n",
      "Epoch [105/100000], Loss: 4.2717\n",
      "Epoch [110/100000], Loss: 4.2255\n",
      "Epoch [115/100000], Loss: 4.1781\n",
      "Epoch [120/100000], Loss: 4.1294\n",
      "Epoch [125/100000], Loss: 4.0794\n",
      "Epoch [130/100000], Loss: 4.0282\n",
      "Epoch [135/100000], Loss: 3.9753\n",
      "Epoch [140/100000], Loss: 3.9210\n",
      "Epoch [145/100000], Loss: 3.8653\n",
      "Epoch [150/100000], Loss: 3.8083\n",
      "Epoch [155/100000], Loss: 3.7507\n",
      "Epoch [160/100000], Loss: 3.6931\n",
      "Epoch [165/100000], Loss: 3.6361\n",
      "Epoch [170/100000], Loss: 3.5806\n",
      "Epoch [175/100000], Loss: 3.5275\n",
      "Epoch [180/100000], Loss: 3.4776\n",
      "Epoch [185/100000], Loss: 3.4316\n",
      "Epoch [190/100000], Loss: 3.3898\n",
      "Epoch [195/100000], Loss: 3.3522\n",
      "Epoch [200/100000], Loss: 3.3188\n",
      "Epoch [205/100000], Loss: 3.2889\n",
      "Epoch [210/100000], Loss: 3.2623\n",
      "Epoch [215/100000], Loss: 3.2382\n",
      "Epoch [220/100000], Loss: 3.2161\n",
      "Epoch [225/100000], Loss: 3.1958\n",
      "Epoch [230/100000], Loss: 3.1769\n",
      "Epoch [235/100000], Loss: 3.1592\n",
      "Epoch [240/100000], Loss: 3.1426\n",
      "Epoch [245/100000], Loss: 3.1268\n",
      "Epoch [250/100000], Loss: 3.1119\n",
      "Epoch [255/100000], Loss: 3.0975\n",
      "Epoch [260/100000], Loss: 3.0838\n",
      "Epoch [265/100000], Loss: 3.0705\n",
      "Epoch [270/100000], Loss: 3.0575\n",
      "Epoch [275/100000], Loss: 3.0449\n",
      "Epoch [280/100000], Loss: 3.0326\n",
      "Epoch [285/100000], Loss: 3.0205\n",
      "Epoch [290/100000], Loss: 3.0086\n",
      "Epoch [295/100000], Loss: 2.9969\n",
      "Epoch [300/100000], Loss: 2.9853\n",
      "Epoch [305/100000], Loss: 2.9739\n",
      "Epoch [310/100000], Loss: 2.9626\n",
      "Epoch [315/100000], Loss: 2.9514\n",
      "Epoch [320/100000], Loss: 2.9403\n",
      "Epoch [325/100000], Loss: 2.9293\n",
      "Epoch [330/100000], Loss: 2.9185\n",
      "Epoch [335/100000], Loss: 2.9077\n",
      "Epoch [340/100000], Loss: 2.8970\n",
      "Epoch [345/100000], Loss: 2.8865\n",
      "Epoch [350/100000], Loss: 2.8760\n",
      "Epoch [355/100000], Loss: 2.8656\n",
      "Epoch [360/100000], Loss: 2.8552\n",
      "Epoch [365/100000], Loss: 2.8450\n",
      "Epoch [370/100000], Loss: 2.8349\n",
      "Epoch [375/100000], Loss: 2.8249\n",
      "Epoch [380/100000], Loss: 2.8150\n",
      "Epoch [385/100000], Loss: 2.8051\n",
      "Epoch [390/100000], Loss: 2.7954\n",
      "Epoch [395/100000], Loss: 2.7858\n",
      "Epoch [400/100000], Loss: 2.7763\n",
      "Epoch [405/100000], Loss: 2.7669\n",
      "Epoch [410/100000], Loss: 2.7576\n",
      "Epoch [415/100000], Loss: 2.7484\n",
      "Epoch [420/100000], Loss: 2.7393\n",
      "Epoch [425/100000], Loss: 2.7302\n",
      "Epoch [430/100000], Loss: 2.7213\n",
      "Epoch [435/100000], Loss: 2.7124\n",
      "Epoch [440/100000], Loss: 2.7036\n",
      "Epoch [445/100000], Loss: 2.6948\n",
      "Epoch [450/100000], Loss: 2.6862\n",
      "Epoch [455/100000], Loss: 2.6776\n",
      "Epoch [460/100000], Loss: 2.6691\n",
      "Epoch [465/100000], Loss: 2.6606\n",
      "Epoch [470/100000], Loss: 2.6523\n",
      "Epoch [475/100000], Loss: 2.6441\n",
      "Epoch [480/100000], Loss: 2.6359\n",
      "Epoch [485/100000], Loss: 2.6278\n",
      "Epoch [490/100000], Loss: 2.6199\n",
      "Epoch [495/100000], Loss: 2.6120\n",
      "Epoch [500/100000], Loss: 2.6041\n",
      "Epoch [505/100000], Loss: 2.5964\n",
      "Epoch [510/100000], Loss: 2.5887\n",
      "Epoch [515/100000], Loss: 2.5811\n",
      "Epoch [520/100000], Loss: 2.5736\n",
      "Epoch [525/100000], Loss: 2.5661\n",
      "Epoch [530/100000], Loss: 2.5587\n",
      "Epoch [535/100000], Loss: 2.5514\n",
      "Epoch [540/100000], Loss: 2.5442\n",
      "Epoch [545/100000], Loss: 2.5369\n",
      "Epoch [550/100000], Loss: 2.5298\n",
      "Epoch [555/100000], Loss: 2.5228\n",
      "Epoch [560/100000], Loss: 2.5157\n",
      "Epoch [565/100000], Loss: 2.5088\n",
      "Epoch [570/100000], Loss: 2.5020\n",
      "Epoch [575/100000], Loss: 2.4952\n",
      "Epoch [580/100000], Loss: 2.4885\n",
      "Epoch [585/100000], Loss: 2.4819\n",
      "Epoch [590/100000], Loss: 2.4753\n",
      "Epoch [595/100000], Loss: 2.4689\n",
      "Epoch [600/100000], Loss: 2.4625\n",
      "Epoch [605/100000], Loss: 2.4561\n",
      "Epoch [610/100000], Loss: 2.4499\n",
      "Epoch [615/100000], Loss: 2.4437\n",
      "Epoch [620/100000], Loss: 2.4375\n",
      "Epoch [625/100000], Loss: 2.4314\n",
      "Epoch [630/100000], Loss: 2.4254\n",
      "Epoch [635/100000], Loss: 2.4194\n",
      "Epoch [640/100000], Loss: 2.4135\n",
      "Epoch [645/100000], Loss: 2.4076\n",
      "Epoch [650/100000], Loss: 2.4019\n",
      "Epoch [655/100000], Loss: 2.3961\n",
      "Epoch [660/100000], Loss: 2.3904\n",
      "Epoch [665/100000], Loss: 2.3848\n",
      "Epoch [670/100000], Loss: 2.3792\n",
      "Epoch [675/100000], Loss: 2.3736\n",
      "Epoch [680/100000], Loss: 2.3681\n",
      "Epoch [685/100000], Loss: 2.3627\n",
      "Epoch [690/100000], Loss: 2.3573\n",
      "Epoch [695/100000], Loss: 2.3520\n",
      "Epoch [700/100000], Loss: 2.3467\n",
      "Epoch [705/100000], Loss: 2.3414\n",
      "Epoch [710/100000], Loss: 2.3362\n",
      "Epoch [715/100000], Loss: 2.3311\n",
      "Epoch [720/100000], Loss: 2.3260\n",
      "Epoch [725/100000], Loss: 2.3209\n",
      "Epoch [730/100000], Loss: 2.3159\n",
      "Epoch [735/100000], Loss: 2.3110\n",
      "Epoch [740/100000], Loss: 2.3060\n",
      "Epoch [745/100000], Loss: 2.3012\n",
      "Epoch [750/100000], Loss: 2.2964\n",
      "Epoch [755/100000], Loss: 2.2916\n",
      "Epoch [760/100000], Loss: 2.2869\n",
      "Epoch [765/100000], Loss: 2.2823\n",
      "Epoch [770/100000], Loss: 2.2777\n",
      "Epoch [775/100000], Loss: 2.2731\n",
      "Epoch [780/100000], Loss: 2.2686\n",
      "Epoch [785/100000], Loss: 2.2641\n",
      "Epoch [790/100000], Loss: 2.2597\n",
      "Epoch [795/100000], Loss: 2.2552\n",
      "Epoch [800/100000], Loss: 2.2509\n",
      "Epoch [805/100000], Loss: 2.2465\n",
      "Epoch [810/100000], Loss: 2.2422\n",
      "Epoch [815/100000], Loss: 2.2380\n",
      "Epoch [820/100000], Loss: 2.2338\n",
      "Epoch [825/100000], Loss: 2.2296\n",
      "Epoch [830/100000], Loss: 2.2254\n",
      "Epoch [835/100000], Loss: 2.2213\n",
      "Epoch [840/100000], Loss: 2.2172\n",
      "Epoch [845/100000], Loss: 2.2132\n",
      "Epoch [850/100000], Loss: 2.2092\n",
      "Epoch [855/100000], Loss: 2.2052\n",
      "Epoch [860/100000], Loss: 2.2012\n",
      "Epoch [865/100000], Loss: 2.1973\n",
      "Epoch [870/100000], Loss: 2.1934\n",
      "Epoch [875/100000], Loss: 2.1896\n",
      "Epoch [880/100000], Loss: 2.1857\n",
      "Epoch [885/100000], Loss: 2.1819\n",
      "Epoch [890/100000], Loss: 2.1782\n",
      "Epoch [895/100000], Loss: 2.1744\n",
      "Epoch [900/100000], Loss: 2.1707\n",
      "Epoch [905/100000], Loss: 2.1670\n",
      "Epoch [910/100000], Loss: 2.1634\n",
      "Epoch [915/100000], Loss: 2.1597\n",
      "Epoch [920/100000], Loss: 2.1561\n",
      "Epoch [925/100000], Loss: 2.1526\n",
      "Epoch [930/100000], Loss: 2.1490\n",
      "Epoch [935/100000], Loss: 2.1455\n",
      "Epoch [940/100000], Loss: 2.1419\n",
      "Epoch [945/100000], Loss: 2.1384\n",
      "Epoch [950/100000], Loss: 2.1349\n",
      "Epoch [955/100000], Loss: 2.1315\n",
      "Epoch [960/100000], Loss: 2.1280\n",
      "Epoch [965/100000], Loss: 2.1246\n",
      "Epoch [970/100000], Loss: 2.1213\n",
      "Epoch [975/100000], Loss: 2.1179\n",
      "Epoch [980/100000], Loss: 2.1145\n",
      "Epoch [985/100000], Loss: 2.1111\n",
      "Epoch [990/100000], Loss: 2.1077\n",
      "Epoch [995/100000], Loss: 2.1044\n",
      "Epoch [1000/100000], Loss: 2.1010\n",
      "Epoch [1005/100000], Loss: 2.0976\n",
      "Epoch [1010/100000], Loss: 2.0943\n",
      "Epoch [1015/100000], Loss: 2.0910\n",
      "Epoch [1020/100000], Loss: 2.0877\n",
      "Epoch [1025/100000], Loss: 2.0844\n",
      "Epoch [1030/100000], Loss: 2.0812\n",
      "Epoch [1035/100000], Loss: 2.0780\n",
      "Epoch [1040/100000], Loss: 2.0748\n",
      "Epoch [1045/100000], Loss: 2.0716\n",
      "Epoch [1050/100000], Loss: 2.0684\n",
      "Epoch [1055/100000], Loss: 2.0652\n",
      "Epoch [1060/100000], Loss: 2.0621\n",
      "Epoch [1065/100000], Loss: 2.0590\n",
      "Epoch [1070/100000], Loss: 2.0559\n",
      "Epoch [1075/100000], Loss: 2.0528\n",
      "Epoch [1080/100000], Loss: 2.0497\n",
      "Epoch [1085/100000], Loss: 2.0467\n",
      "Epoch [1090/100000], Loss: 2.0436\n",
      "Epoch [1095/100000], Loss: 2.0406\n",
      "Epoch [1100/100000], Loss: 2.0377\n",
      "Epoch [1105/100000], Loss: 2.0347\n",
      "Epoch [1110/100000], Loss: 2.0317\n",
      "Epoch [1115/100000], Loss: 2.0288\n",
      "Epoch [1120/100000], Loss: 2.0259\n",
      "Epoch [1125/100000], Loss: 2.0229\n",
      "Epoch [1130/100000], Loss: 2.0200\n",
      "Epoch [1135/100000], Loss: 2.0171\n",
      "Epoch [1140/100000], Loss: 2.0142\n",
      "Epoch [1145/100000], Loss: 2.0112\n",
      "Epoch [1150/100000], Loss: 2.0084\n",
      "Epoch [1155/100000], Loss: 2.0055\n",
      "Epoch [1160/100000], Loss: 2.0026\n",
      "Epoch [1165/100000], Loss: 1.9997\n",
      "Epoch [1170/100000], Loss: 1.9969\n",
      "Epoch [1175/100000], Loss: 1.9940\n",
      "Epoch [1180/100000], Loss: 1.9912\n",
      "Epoch [1185/100000], Loss: 1.9885\n",
      "Epoch [1190/100000], Loss: 1.9857\n",
      "Epoch [1195/100000], Loss: 1.9830\n",
      "Epoch [1200/100000], Loss: 1.9803\n",
      "Epoch [1205/100000], Loss: 1.9776\n",
      "Epoch [1210/100000], Loss: 1.9749\n",
      "Epoch [1215/100000], Loss: 1.9722\n",
      "Epoch [1220/100000], Loss: 1.9695\n",
      "Epoch [1225/100000], Loss: 1.9668\n",
      "Epoch [1230/100000], Loss: 1.9642\n",
      "Epoch [1235/100000], Loss: 1.9615\n",
      "Epoch [1240/100000], Loss: 1.9589\n",
      "Epoch [1245/100000], Loss: 1.9563\n",
      "Epoch [1250/100000], Loss: 1.9537\n",
      "Epoch [1255/100000], Loss: 1.9511\n",
      "Epoch [1260/100000], Loss: 1.9485\n",
      "Epoch [1265/100000], Loss: 1.9459\n",
      "Epoch [1270/100000], Loss: 1.9434\n",
      "Epoch [1275/100000], Loss: 1.9408\n",
      "Epoch [1280/100000], Loss: 1.9383\n",
      "Epoch [1285/100000], Loss: 1.9358\n",
      "Epoch [1290/100000], Loss: 1.9333\n",
      "Epoch [1295/100000], Loss: 1.9309\n",
      "Epoch [1300/100000], Loss: 1.9284\n",
      "Epoch [1305/100000], Loss: 1.9260\n",
      "Epoch [1310/100000], Loss: 1.9236\n",
      "Epoch [1315/100000], Loss: 1.9211\n",
      "Epoch [1320/100000], Loss: 1.9188\n",
      "Epoch [1325/100000], Loss: 1.9164\n",
      "Epoch [1330/100000], Loss: 1.9140\n",
      "Epoch [1335/100000], Loss: 1.9117\n",
      "Epoch [1340/100000], Loss: 1.9093\n",
      "Epoch [1345/100000], Loss: 1.9070\n",
      "Epoch [1350/100000], Loss: 1.9046\n",
      "Epoch [1355/100000], Loss: 1.9022\n",
      "Epoch [1360/100000], Loss: 1.8999\n",
      "Epoch [1365/100000], Loss: 1.8976\n",
      "Epoch [1370/100000], Loss: 1.8953\n",
      "Epoch [1375/100000], Loss: 1.8930\n",
      "Epoch [1380/100000], Loss: 1.8907\n",
      "Epoch [1385/100000], Loss: 1.8884\n"
     ]
    }
   ],
   "source": [
    "input_size = X_train.shape[1]\n",
    "actual_ids = toHeroID(y_train)-1\n",
    "actual_ids = actual_ids\n",
    "output_size = y_train.shape[1]\n",
    "# output_size = \n",
    "hidden_size = 5\n",
    "num_epochs = 100000\n",
    "batch_size = 100\n",
    "learning_rate = 0.001\n",
    "# log_model = nn.Linear(input_size,output_size)\n",
    "# might need a sigmoid ^\n",
    "nn_model = NeuralNet(input_size,hidden_size,output_size)\n",
    "criterion = nn.CrossEntropyLoss()\n",
    "optimizer = torch.optim.Adam(nn_model.parameters(), lr = learning_rate)\n",
    "for epoch in range(num_epochs):\n",
    "    # Convert numpy arrays to torch tensors\n",
    "    inputs = torch.from_numpy(np.array(X_train,dtype=np.float32))\n",
    "    targets = torch.from_numpy(np.array(actual_ids,dtype=np.int64))\n",
    "\n",
    "    # Forward pass\n",
    "    outputs = nn_model(inputs)\n",
    "    loss = criterion(outputs.squeeze(), targets)\n",
    "    \n",
    "    # Backward and optimize\n",
    "    optimizer.zero_grad()\n",
    "    loss.backward()\n",
    "    optimizer.step()\n",
    "    \n",
    "    if (epoch+1) % 5 == 0:\n",
    "        print ('Epoch [{}/{}], Loss: {:.4f}'.format(epoch+1, num_epochs, loss.item()))\n",
    "\n"
   ]
  },
  {
   "cell_type": "code",
   "execution_count": null,
   "metadata": {},
   "outputs": [],
   "source": [
    "prediction = nn_model(torch.from_numpy(np.array(X_test,dtype=np.float32))).detach().numpy()"
   ]
  },
  {
   "cell_type": "code",
   "execution_count": null,
   "metadata": {},
   "outputs": [],
   "source": [
    "labels = np.argmax(y_test,axis=1)+1\n",
    "sum((np.argmax(prediction,axis=1)+1) == labels )/ len(labels)"
   ]
  },
  {
   "cell_type": "code",
   "execution_count": null,
   "metadata": {},
   "outputs": [],
   "source": [
    "clf = RandomForestClassifier(n_estimators=100)\n",
    "rf = clf.fit(X_train,y_train)"
   ]
  },
  {
   "cell_type": "code",
   "execution_count": null,
   "metadata": {},
   "outputs": [],
   "source": [
    "prediction = rf.predict(X_test)\n",
    "sum((np.argmax(prediction,axis=1)+1) == labels )/ len(labels)"
   ]
  }
 ],
 "metadata": {
  "kernelspec": {
   "display_name": "Python 3",
   "language": "python",
   "name": "python3"
  },
  "language_info": {
   "codemirror_mode": {
    "name": "ipython",
    "version": 3
   },
   "file_extension": ".py",
   "mimetype": "text/x-python",
   "name": "python",
   "nbconvert_exporter": "python",
   "pygments_lexer": "ipython3",
   "version": "3.7.1"
  }
 },
 "nbformat": 4,
 "nbformat_minor": 2
}
